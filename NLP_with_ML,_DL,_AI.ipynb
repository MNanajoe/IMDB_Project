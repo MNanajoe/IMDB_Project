{
  "cells": [
    {
      "cell_type": "code",
      "execution_count": null,
      "id": "b4519ac4",
      "metadata": {
        "colab": {
          "base_uri": "https://localhost:8080/"
        },
        "id": "b4519ac4",
        "outputId": "8aa0916c-309e-4aa1-e012-e67c9e687d0c"
      },
      "outputs": [
        {
          "output_type": "stream",
          "name": "stderr",
          "text": [
            "[nltk_data] Downloading package stopwords to /root/nltk_data...\n",
            "[nltk_data]   Package stopwords is already up-to-date!\n",
            "[nltk_data] Downloading package wordnet to /root/nltk_data...\n",
            "[nltk_data]   Package wordnet is already up-to-date!\n"
          ]
        }
      ],
      "source": [
        "import pandas as pd\n",
        "import nltk\n",
        "from nltk.corpus import stopwords\n",
        "from nltk.stem import WordNetLemmatizer, PorterStemmer\n",
        "nltk.download(\"stopwords\")\n",
        "nltk.download(\"wordnet\")\n",
        "import re\n",
        "from tqdm import tqdm\n",
        "\n",
        "from sklearn.feature_extraction.text import CountVectorizer, TfidfVectorizer\n",
        "#from genism.models import Word2vec\n",
        "\n",
        "import spacy\n"
      ]
    },
    {
      "cell_type": "code",
      "execution_count": null,
      "id": "5fc15036",
      "metadata": {
        "colab": {
          "base_uri": "https://localhost:8080/",
          "height": 161
        },
        "id": "5fc15036",
        "outputId": "98fa5d31-9d5f-4448-976f-84228a861a78"
      },
      "outputs": [
        {
          "output_type": "execute_result",
          "data": {
            "text/plain": [
              "'\\ndf = pd.read_csv(\\'IMDB Dataset.csv\\')\\nlem = WordNetLemmatizer()\\nstem = PorterStemmer()\\ndef rm_special_symbols_numbers(text):\\n    return re.sub(r\\'[^a-zA-Z\\\\s]\\',\"\",text)\\ndef pre_process(text):\\n\\n\\n    token = nltk.word_tokenize(text.lower())\\n\\n    token = [lem.lemmatize(word) for word in token if word not in stopwords.words(\"english\")]\\n\\n    return \" \".join(token)\\npre = lambda text: [lem.lemmatize(word) for word in tqdm(nltk.word_tokenize(text.lower())) if word not in stopwords.words(\"english\")]\\ndf[\"review\"] = df[\"review\"].apply(rm_special_symbols_numbers)\\ndf[\"review\"] = df[\"review\"].apply(pre)'"
            ],
            "application/vnd.google.colaboratory.intrinsic+json": {
              "type": "string"
            }
          },
          "metadata": {},
          "execution_count": 5
        }
      ],
      "source": [
        "\"\"\"\n",
        "df = pd.read_csv('IMDB Dataset.csv')\n",
        "lem = WordNetLemmatizer()\n",
        "stem = PorterStemmer()\n",
        "def rm_special_symbols_numbers(text):\n",
        "    return re.sub(r'[^a-zA-Z\\s]',\"\",text)\n",
        "def pre_process(text):\n",
        "\n",
        "\n",
        "    token = nltk.word_tokenize(text.lower())\n",
        "\n",
        "    token = [lem.lemmatize(word) for word in token if word not in stopwords.words(\"english\")]\n",
        "\n",
        "    return \" \".join(token)\n",
        "pre = lambda text: [lem.lemmatize(word) for word in tqdm(nltk.word_tokenize(text.lower())) if word not in stopwords.words(\"english\")]\n",
        "df[\"review\"] = df[\"review\"].apply(rm_special_symbols_numbers)\n",
        "df[\"review\"] = df[\"review\"].apply(pre)\"\"\""
      ]
    },
    {
      "cell_type": "code",
      "execution_count": null,
      "id": "59b2fb10",
      "metadata": {
        "id": "59b2fb10"
      },
      "outputs": [],
      "source": [
        "df = pd.read_csv(\"cleaned_text.csv\")"
      ]
    },
    {
      "cell_type": "code",
      "execution_count": null,
      "id": "ebb3c4d8",
      "metadata": {
        "id": "ebb3c4d8",
        "colab": {
          "base_uri": "https://localhost:8080/",
          "height": 423
        },
        "outputId": "61864d06-4956-4c47-d367-0f5d192f3029"
      },
      "outputs": [
        {
          "output_type": "execute_result",
          "data": {
            "text/plain": [
              "       Unnamed: 0                                             review sentiment\n",
              "0               0  ['one', 'reviewer', 'mentioned', 'watching', '...  positive\n",
              "1               1  ['wonderful', 'little', 'production', 'br', 'b...  positive\n",
              "2               2  ['thought', 'wonderful', 'way', 'spend', 'time...  positive\n",
              "3               3  ['basically', 'there', 'family', 'little', 'bo...  negative\n",
              "4               4  ['petter', 'matteis', 'love', 'time', 'money',...  positive\n",
              "...           ...                                                ...       ...\n",
              "49995       49995  ['thought', 'movie', 'right', 'good', 'job', '...  positive\n",
              "49996       49996  ['bad', 'plot', 'bad', 'dialogue', 'bad', 'act...  negative\n",
              "49997       49997  ['catholic', 'taught', 'parochial', 'elementar...  negative\n",
              "49998       49998  ['im', 'going', 'disagree', 'previous', 'comme...  negative\n",
              "49999       49999  ['one', 'expects', 'star', 'trek', 'movie', 'h...  negative\n",
              "\n",
              "[50000 rows x 3 columns]"
            ],
            "text/html": [
              "\n",
              "  <div id=\"df-e3b97b57-625b-44e7-82fc-0e52130c4b4a\" class=\"colab-df-container\">\n",
              "    <div>\n",
              "<style scoped>\n",
              "    .dataframe tbody tr th:only-of-type {\n",
              "        vertical-align: middle;\n",
              "    }\n",
              "\n",
              "    .dataframe tbody tr th {\n",
              "        vertical-align: top;\n",
              "    }\n",
              "\n",
              "    .dataframe thead th {\n",
              "        text-align: right;\n",
              "    }\n",
              "</style>\n",
              "<table border=\"1\" class=\"dataframe\">\n",
              "  <thead>\n",
              "    <tr style=\"text-align: right;\">\n",
              "      <th></th>\n",
              "      <th>Unnamed: 0</th>\n",
              "      <th>review</th>\n",
              "      <th>sentiment</th>\n",
              "    </tr>\n",
              "  </thead>\n",
              "  <tbody>\n",
              "    <tr>\n",
              "      <th>0</th>\n",
              "      <td>0</td>\n",
              "      <td>['one', 'reviewer', 'mentioned', 'watching', '...</td>\n",
              "      <td>positive</td>\n",
              "    </tr>\n",
              "    <tr>\n",
              "      <th>1</th>\n",
              "      <td>1</td>\n",
              "      <td>['wonderful', 'little', 'production', 'br', 'b...</td>\n",
              "      <td>positive</td>\n",
              "    </tr>\n",
              "    <tr>\n",
              "      <th>2</th>\n",
              "      <td>2</td>\n",
              "      <td>['thought', 'wonderful', 'way', 'spend', 'time...</td>\n",
              "      <td>positive</td>\n",
              "    </tr>\n",
              "    <tr>\n",
              "      <th>3</th>\n",
              "      <td>3</td>\n",
              "      <td>['basically', 'there', 'family', 'little', 'bo...</td>\n",
              "      <td>negative</td>\n",
              "    </tr>\n",
              "    <tr>\n",
              "      <th>4</th>\n",
              "      <td>4</td>\n",
              "      <td>['petter', 'matteis', 'love', 'time', 'money',...</td>\n",
              "      <td>positive</td>\n",
              "    </tr>\n",
              "    <tr>\n",
              "      <th>...</th>\n",
              "      <td>...</td>\n",
              "      <td>...</td>\n",
              "      <td>...</td>\n",
              "    </tr>\n",
              "    <tr>\n",
              "      <th>49995</th>\n",
              "      <td>49995</td>\n",
              "      <td>['thought', 'movie', 'right', 'good', 'job', '...</td>\n",
              "      <td>positive</td>\n",
              "    </tr>\n",
              "    <tr>\n",
              "      <th>49996</th>\n",
              "      <td>49996</td>\n",
              "      <td>['bad', 'plot', 'bad', 'dialogue', 'bad', 'act...</td>\n",
              "      <td>negative</td>\n",
              "    </tr>\n",
              "    <tr>\n",
              "      <th>49997</th>\n",
              "      <td>49997</td>\n",
              "      <td>['catholic', 'taught', 'parochial', 'elementar...</td>\n",
              "      <td>negative</td>\n",
              "    </tr>\n",
              "    <tr>\n",
              "      <th>49998</th>\n",
              "      <td>49998</td>\n",
              "      <td>['im', 'going', 'disagree', 'previous', 'comme...</td>\n",
              "      <td>negative</td>\n",
              "    </tr>\n",
              "    <tr>\n",
              "      <th>49999</th>\n",
              "      <td>49999</td>\n",
              "      <td>['one', 'expects', 'star', 'trek', 'movie', 'h...</td>\n",
              "      <td>negative</td>\n",
              "    </tr>\n",
              "  </tbody>\n",
              "</table>\n",
              "<p>50000 rows × 3 columns</p>\n",
              "</div>\n",
              "    <div class=\"colab-df-buttons\">\n",
              "\n",
              "  <div class=\"colab-df-container\">\n",
              "    <button class=\"colab-df-convert\" onclick=\"convertToInteractive('df-e3b97b57-625b-44e7-82fc-0e52130c4b4a')\"\n",
              "            title=\"Convert this dataframe to an interactive table.\"\n",
              "            style=\"display:none;\">\n",
              "\n",
              "  <svg xmlns=\"http://www.w3.org/2000/svg\" height=\"24px\" viewBox=\"0 -960 960 960\">\n",
              "    <path d=\"M120-120v-720h720v720H120Zm60-500h600v-160H180v160Zm220 220h160v-160H400v160Zm0 220h160v-160H400v160ZM180-400h160v-160H180v160Zm440 0h160v-160H620v160ZM180-180h160v-160H180v160Zm440 0h160v-160H620v160Z\"/>\n",
              "  </svg>\n",
              "    </button>\n",
              "\n",
              "  <style>\n",
              "    .colab-df-container {\n",
              "      display:flex;\n",
              "      gap: 12px;\n",
              "    }\n",
              "\n",
              "    .colab-df-convert {\n",
              "      background-color: #E8F0FE;\n",
              "      border: none;\n",
              "      border-radius: 50%;\n",
              "      cursor: pointer;\n",
              "      display: none;\n",
              "      fill: #1967D2;\n",
              "      height: 32px;\n",
              "      padding: 0 0 0 0;\n",
              "      width: 32px;\n",
              "    }\n",
              "\n",
              "    .colab-df-convert:hover {\n",
              "      background-color: #E2EBFA;\n",
              "      box-shadow: 0px 1px 2px rgba(60, 64, 67, 0.3), 0px 1px 3px 1px rgba(60, 64, 67, 0.15);\n",
              "      fill: #174EA6;\n",
              "    }\n",
              "\n",
              "    .colab-df-buttons div {\n",
              "      margin-bottom: 4px;\n",
              "    }\n",
              "\n",
              "    [theme=dark] .colab-df-convert {\n",
              "      background-color: #3B4455;\n",
              "      fill: #D2E3FC;\n",
              "    }\n",
              "\n",
              "    [theme=dark] .colab-df-convert:hover {\n",
              "      background-color: #434B5C;\n",
              "      box-shadow: 0px 1px 3px 1px rgba(0, 0, 0, 0.15);\n",
              "      filter: drop-shadow(0px 1px 2px rgba(0, 0, 0, 0.3));\n",
              "      fill: #FFFFFF;\n",
              "    }\n",
              "  </style>\n",
              "\n",
              "    <script>\n",
              "      const buttonEl =\n",
              "        document.querySelector('#df-e3b97b57-625b-44e7-82fc-0e52130c4b4a button.colab-df-convert');\n",
              "      buttonEl.style.display =\n",
              "        google.colab.kernel.accessAllowed ? 'block' : 'none';\n",
              "\n",
              "      async function convertToInteractive(key) {\n",
              "        const element = document.querySelector('#df-e3b97b57-625b-44e7-82fc-0e52130c4b4a');\n",
              "        const dataTable =\n",
              "          await google.colab.kernel.invokeFunction('convertToInteractive',\n",
              "                                                    [key], {});\n",
              "        if (!dataTable) return;\n",
              "\n",
              "        const docLinkHtml = 'Like what you see? Visit the ' +\n",
              "          '<a target=\"_blank\" href=https://colab.research.google.com/notebooks/data_table.ipynb>data table notebook</a>'\n",
              "          + ' to learn more about interactive tables.';\n",
              "        element.innerHTML = '';\n",
              "        dataTable['output_type'] = 'display_data';\n",
              "        await google.colab.output.renderOutput(dataTable, element);\n",
              "        const docLink = document.createElement('div');\n",
              "        docLink.innerHTML = docLinkHtml;\n",
              "        element.appendChild(docLink);\n",
              "      }\n",
              "    </script>\n",
              "  </div>\n",
              "\n",
              "\n",
              "<div id=\"df-3db0e228-34f0-4ad4-9c58-2544c0d2f7bf\">\n",
              "  <button class=\"colab-df-quickchart\" onclick=\"quickchart('df-3db0e228-34f0-4ad4-9c58-2544c0d2f7bf')\"\n",
              "            title=\"Suggest charts\"\n",
              "            style=\"display:none;\">\n",
              "\n",
              "<svg xmlns=\"http://www.w3.org/2000/svg\" height=\"24px\"viewBox=\"0 0 24 24\"\n",
              "     width=\"24px\">\n",
              "    <g>\n",
              "        <path d=\"M19 3H5c-1.1 0-2 .9-2 2v14c0 1.1.9 2 2 2h14c1.1 0 2-.9 2-2V5c0-1.1-.9-2-2-2zM9 17H7v-7h2v7zm4 0h-2V7h2v10zm4 0h-2v-4h2v4z\"/>\n",
              "    </g>\n",
              "</svg>\n",
              "  </button>\n",
              "\n",
              "<style>\n",
              "  .colab-df-quickchart {\n",
              "      --bg-color: #E8F0FE;\n",
              "      --fill-color: #1967D2;\n",
              "      --hover-bg-color: #E2EBFA;\n",
              "      --hover-fill-color: #174EA6;\n",
              "      --disabled-fill-color: #AAA;\n",
              "      --disabled-bg-color: #DDD;\n",
              "  }\n",
              "\n",
              "  [theme=dark] .colab-df-quickchart {\n",
              "      --bg-color: #3B4455;\n",
              "      --fill-color: #D2E3FC;\n",
              "      --hover-bg-color: #434B5C;\n",
              "      --hover-fill-color: #FFFFFF;\n",
              "      --disabled-bg-color: #3B4455;\n",
              "      --disabled-fill-color: #666;\n",
              "  }\n",
              "\n",
              "  .colab-df-quickchart {\n",
              "    background-color: var(--bg-color);\n",
              "    border: none;\n",
              "    border-radius: 50%;\n",
              "    cursor: pointer;\n",
              "    display: none;\n",
              "    fill: var(--fill-color);\n",
              "    height: 32px;\n",
              "    padding: 0;\n",
              "    width: 32px;\n",
              "  }\n",
              "\n",
              "  .colab-df-quickchart:hover {\n",
              "    background-color: var(--hover-bg-color);\n",
              "    box-shadow: 0 1px 2px rgba(60, 64, 67, 0.3), 0 1px 3px 1px rgba(60, 64, 67, 0.15);\n",
              "    fill: var(--button-hover-fill-color);\n",
              "  }\n",
              "\n",
              "  .colab-df-quickchart-complete:disabled,\n",
              "  .colab-df-quickchart-complete:disabled:hover {\n",
              "    background-color: var(--disabled-bg-color);\n",
              "    fill: var(--disabled-fill-color);\n",
              "    box-shadow: none;\n",
              "  }\n",
              "\n",
              "  .colab-df-spinner {\n",
              "    border: 2px solid var(--fill-color);\n",
              "    border-color: transparent;\n",
              "    border-bottom-color: var(--fill-color);\n",
              "    animation:\n",
              "      spin 1s steps(1) infinite;\n",
              "  }\n",
              "\n",
              "  @keyframes spin {\n",
              "    0% {\n",
              "      border-color: transparent;\n",
              "      border-bottom-color: var(--fill-color);\n",
              "      border-left-color: var(--fill-color);\n",
              "    }\n",
              "    20% {\n",
              "      border-color: transparent;\n",
              "      border-left-color: var(--fill-color);\n",
              "      border-top-color: var(--fill-color);\n",
              "    }\n",
              "    30% {\n",
              "      border-color: transparent;\n",
              "      border-left-color: var(--fill-color);\n",
              "      border-top-color: var(--fill-color);\n",
              "      border-right-color: var(--fill-color);\n",
              "    }\n",
              "    40% {\n",
              "      border-color: transparent;\n",
              "      border-right-color: var(--fill-color);\n",
              "      border-top-color: var(--fill-color);\n",
              "    }\n",
              "    60% {\n",
              "      border-color: transparent;\n",
              "      border-right-color: var(--fill-color);\n",
              "    }\n",
              "    80% {\n",
              "      border-color: transparent;\n",
              "      border-right-color: var(--fill-color);\n",
              "      border-bottom-color: var(--fill-color);\n",
              "    }\n",
              "    90% {\n",
              "      border-color: transparent;\n",
              "      border-bottom-color: var(--fill-color);\n",
              "    }\n",
              "  }\n",
              "</style>\n",
              "\n",
              "  <script>\n",
              "    async function quickchart(key) {\n",
              "      const quickchartButtonEl =\n",
              "        document.querySelector('#' + key + ' button');\n",
              "      quickchartButtonEl.disabled = true;  // To prevent multiple clicks.\n",
              "      quickchartButtonEl.classList.add('colab-df-spinner');\n",
              "      try {\n",
              "        const charts = await google.colab.kernel.invokeFunction(\n",
              "            'suggestCharts', [key], {});\n",
              "      } catch (error) {\n",
              "        console.error('Error during call to suggestCharts:', error);\n",
              "      }\n",
              "      quickchartButtonEl.classList.remove('colab-df-spinner');\n",
              "      quickchartButtonEl.classList.add('colab-df-quickchart-complete');\n",
              "    }\n",
              "    (() => {\n",
              "      let quickchartButtonEl =\n",
              "        document.querySelector('#df-3db0e228-34f0-4ad4-9c58-2544c0d2f7bf button');\n",
              "      quickchartButtonEl.style.display =\n",
              "        google.colab.kernel.accessAllowed ? 'block' : 'none';\n",
              "    })();\n",
              "  </script>\n",
              "</div>\n",
              "\n",
              "  <div id=\"id_4918a78e-dd42-4ebe-bb52-f14305b3aa3d\">\n",
              "    <style>\n",
              "      .colab-df-generate {\n",
              "        background-color: #E8F0FE;\n",
              "        border: none;\n",
              "        border-radius: 50%;\n",
              "        cursor: pointer;\n",
              "        display: none;\n",
              "        fill: #1967D2;\n",
              "        height: 32px;\n",
              "        padding: 0 0 0 0;\n",
              "        width: 32px;\n",
              "      }\n",
              "\n",
              "      .colab-df-generate:hover {\n",
              "        background-color: #E2EBFA;\n",
              "        box-shadow: 0px 1px 2px rgba(60, 64, 67, 0.3), 0px 1px 3px 1px rgba(60, 64, 67, 0.15);\n",
              "        fill: #174EA6;\n",
              "      }\n",
              "\n",
              "      [theme=dark] .colab-df-generate {\n",
              "        background-color: #3B4455;\n",
              "        fill: #D2E3FC;\n",
              "      }\n",
              "\n",
              "      [theme=dark] .colab-df-generate:hover {\n",
              "        background-color: #434B5C;\n",
              "        box-shadow: 0px 1px 3px 1px rgba(0, 0, 0, 0.15);\n",
              "        filter: drop-shadow(0px 1px 2px rgba(0, 0, 0, 0.3));\n",
              "        fill: #FFFFFF;\n",
              "      }\n",
              "    </style>\n",
              "    <button class=\"colab-df-generate\" onclick=\"generateWithVariable('df')\"\n",
              "            title=\"Generate code using this dataframe.\"\n",
              "            style=\"display:none;\">\n",
              "\n",
              "  <svg xmlns=\"http://www.w3.org/2000/svg\" height=\"24px\"viewBox=\"0 0 24 24\"\n",
              "       width=\"24px\">\n",
              "    <path d=\"M7,19H8.4L18.45,9,17,7.55,7,17.6ZM5,21V16.75L18.45,3.32a2,2,0,0,1,2.83,0l1.4,1.43a1.91,1.91,0,0,1,.58,1.4,1.91,1.91,0,0,1-.58,1.4L9.25,21ZM18.45,9,17,7.55Zm-12,3A5.31,5.31,0,0,0,4.9,8.1,5.31,5.31,0,0,0,1,6.5,5.31,5.31,0,0,0,4.9,4.9,5.31,5.31,0,0,0,6.5,1,5.31,5.31,0,0,0,8.1,4.9,5.31,5.31,0,0,0,12,6.5,5.46,5.46,0,0,0,6.5,12Z\"/>\n",
              "  </svg>\n",
              "    </button>\n",
              "    <script>\n",
              "      (() => {\n",
              "      const buttonEl =\n",
              "        document.querySelector('#id_4918a78e-dd42-4ebe-bb52-f14305b3aa3d button.colab-df-generate');\n",
              "      buttonEl.style.display =\n",
              "        google.colab.kernel.accessAllowed ? 'block' : 'none';\n",
              "\n",
              "      buttonEl.onclick = () => {\n",
              "        google.colab.notebook.generateWithVariable('df');\n",
              "      }\n",
              "      })();\n",
              "    </script>\n",
              "  </div>\n",
              "\n",
              "    </div>\n",
              "  </div>\n"
            ],
            "application/vnd.google.colaboratory.intrinsic+json": {
              "type": "dataframe",
              "variable_name": "df",
              "summary": "{\n  \"name\": \"df\",\n  \"rows\": 50000,\n  \"fields\": [\n    {\n      \"column\": \"Unnamed: 0\",\n      \"properties\": {\n        \"dtype\": \"number\",\n        \"std\": 14433,\n        \"min\": 0,\n        \"max\": 49999,\n        \"num_unique_values\": 50000,\n        \"samples\": [\n          33553,\n          9427,\n          199\n        ],\n        \"semantic_type\": \"\",\n        \"description\": \"\"\n      }\n    },\n    {\n      \"column\": \"review\",\n      \"properties\": {\n        \"dtype\": \"string\",\n        \"num_unique_values\": 49577,\n        \"samples\": [\n          \"['sat', 'enjoyable', 'fast', 'paced', 'min', 'rollbr', 'br', 'roll', 'country', 'boy', 'mat', 'toby', 'malone', 'dream', 'becoming', 'sport', 'star', 'mat', 'travel', 'city', 'picked', 'cousin', 'george', 'damien', 'robertson', 'well', 'plan', 'anyway', 'george', 'involved', 'gangster', 'tiny', 'john', 'batchelor', 'making', 'delivery', 'needle', 'say', 'mat', 'get', 'dragged', 'george', 'world', 'br', 'br', 'thought', 'great', 'mat', 'teach', 'george', 'moral', 'respect', 'george', 'teach', 'mat', 'relax', 'enjoy', 'life', 'little', 'toby', 'damien', 'well', 'cast', 'together', 'outstanding', 'jobbr', 'br', 'every', 'character', 'movie', 'complimented', 'well', 'two', 'cop', 'great', 'david', 'ngoombujarra', 'brought', 'great', 'comic', 'relief', 'movie', 'tiny', 'played', 'likable', 'gangster', 'reminded', 'one', 'favourite', 'character', 'pando', 'two', 'handsbr', 'br', 'one', 'thing', 'liked', 'roll', 'showcased', 'city', 'grew', 'lived', 'year', 'perth', 'fremantle', 'good', 'see', 'sight', 'landmark', 'grew', 'especially', 'old', 'ferris', 'wheelbr', 'br', 'rock', 'n', 'roll']\",\n          \"['twenty', 'year', 'ago', 'five', 'year', 'old', 'boy', 'michael', 'hawthorne', 'witnessed', 'father', 'killing', 'mother', 'axe', 'empty', 'road', 'committing', 'suicide', 'later', 'present', 'day', 'michael', 'gordon', 'currie', 'invite', 'girlfriend', 'peg', 'stacy', 'grant', 'best', 'friend', 'chris', 'myc', 'agnew', 'jennifer', 'emmanuelle', 'vaugier', 'lisa', 'ann', 'kelly', 'benson', 'ned', 'brendon', 'beiser', 'mitch', 'maldive', 'phillip', 'rhys', 'trish', 'rachel', 'hayward', 'spend', 'halloween', 'country', 'grandparent', 'farm', 'asks', 'friend', 'wear', 'costume', 'would', 'represent', 'greatest', 'innermost', 'fear', 'together', 'indian', 'friend', 'crow', 'byron', 'chief', 'moon', 'would', 'perform', 'ancient', 'indian', 'celebration', 'using', 'carved', 'wooden', 'dummy', 'morty', 'jon', 'fedele', 'would', 'eliminate', 'fear', 'forever', 'greatest', 'fear', 'michael', 'become', 'serial', 'killer', 'like', 'father', 'something', 'go', 'wrong', 'morty', 'turn', 'father', 'killing', 'friendsbr', 'br', 'fear', 'resurrection', 'disappointing', 'pointless', 'slash', 'movie', 'us', 'interesting', 'concept', 'eliminating', 'greatest', 'innermost', 'fear', 'friend', 'grows', 'messy', 'screenplay', 'full', 'clichs', 'exaggerated', 'performance', 'like', 'example', 'm', 'betsy', 'palmer', 'others', 'weak', 'general', 'acting', 'good', 'unfortunately', 'explanation', 'dummy', 'brought', 'live', 'spite', 'surrounded', 'close', 'friend', 'group', 'feel', 'pain', 'sorrow', 'one', 'dy', 'lowpace', 'along', 'fifty', 'minute', 'could', 'used', 'built', 'better', 'dramatic', 'situation', 'end', 'michael', 'show', 'charm', 'father', 'interested', 'noticed', 'along', 'story', 'know', 'whether', 'previous', 'reference', 'edited', 'dvd', 'released', 'brazil', 'minute', 'running', 'time', 'special', 'effect', 'reasonable', 'bmovie', 'vote', 'fourbr', 'br', 'title', 'brazil', 'fear', 'uma', 'noite', 'de', 'halloween', 'fear', 'one', 'night', 'halloween']\",\n          \"['september', 'yearold', 'jonny', 'kennedy', 'died', 'terrible', 'genetic', 'condition', 'called', 'dystrophic', 'epidermolysis', 'bullosa', 'eb', 'meant', 'skin', 'literally', 'fell', 'slightest', 'touch', 'leaving', 'body', 'covered', 'agonising', 'sore', 'leading', 'final', 'fight', 'skin', 'cancer', 'last', 'month', 'jonny', 'decided', 'work', 'filmmaker', 'patrick', 'collerton', 'document', 'life', 'death', 'result', 'film', 'first', 'broadcast', 'march', 'uplifting', 'confounding', 'provocatively', 'humorous', 'story', 'singular', 'man', 'shying', 'away', 'grim', 'reality', 'eb', 'film', 'also', 'celebration', 'life', 'lived', 'full', 'produced', 'directed', 'patrick', 'collerton', 'first', 'shown', 'march', 'boy', 'whose', 'skin', 'fell', 'become', 'talked', 'documentary', 'year', 'attracted', 'nearly', 'five', 'million', 'viewer', 'screening', 'public', 'donated', 'half', 'million', 'pound', 'jonnys', 'charity', 'debra', 'jonny', 'kennedy', 'memorial', 'fund', 'set', 'raise', 'another', 'half', 'million', 'aim', 'ensuring', 'jonny', 'kennedy', 'left', 'one', 'million', 'pound', 'legacy']\"\n        ],\n        \"semantic_type\": \"\",\n        \"description\": \"\"\n      }\n    },\n    {\n      \"column\": \"sentiment\",\n      \"properties\": {\n        \"dtype\": \"category\",\n        \"num_unique_values\": 2,\n        \"samples\": [\n          \"negative\",\n          \"positive\"\n        ],\n        \"semantic_type\": \"\",\n        \"description\": \"\"\n      }\n    }\n  ]\n}"
            }
          },
          "metadata": {},
          "execution_count": 7
        }
      ],
      "source": [
        "df"
      ]
    },
    {
      "cell_type": "code",
      "execution_count": null,
      "id": "d674c30d",
      "metadata": {
        "id": "d674c30d"
      },
      "outputs": [],
      "source": [
        "df_p = df[df[\"sentiment\"]==\"positive\"].iloc[0:2000]\n",
        "\n",
        "df_n = df[df[\"sentiment\"] == \"negative\"].iloc[0:2000]\n",
        "\n",
        "df = pd.concat([df_p,df_n],axis=0)"
      ]
    },
    {
      "cell_type": "code",
      "execution_count": null,
      "id": "1d1291e2",
      "metadata": {
        "id": "1d1291e2"
      },
      "outputs": [],
      "source": [
        "import ast\n",
        "\n",
        "\n",
        "df[\"review\"] = df[\"review\"].apply(lambda x: ast.literal_eval(x))\n",
        "df[\"review\"]= df[\"review\"].apply(' '.join)"
      ]
    },
    {
      "cell_type": "code",
      "execution_count": null,
      "id": "9adc9ed7",
      "metadata": {
        "id": "9adc9ed7",
        "colab": {
          "base_uri": "https://localhost:8080/",
          "height": 423
        },
        "outputId": "db33c4b9-a9e1-4ba9-e147-b2e76c592db3"
      },
      "outputs": [
        {
          "output_type": "execute_result",
          "data": {
            "text/plain": [
              "      Unnamed: 0                                             review sentiment\n",
              "0              0  one reviewer mentioned watching oz episode you...  positive\n",
              "1              1  wonderful little production br br filming tech...  positive\n",
              "2              2  thought wonderful way spend time hot summer we...  positive\n",
              "4              4  petter matteis love time money visually stunni...  positive\n",
              "5              5  probably alltime favorite movie story selfless...  positive\n",
              "...          ...                                                ...       ...\n",
              "3953        3953  let see advantage watching piranha piranha wel...  negative\n",
              "3954        3954  one thing produced movie feel later movie inte...  negative\n",
              "3956        3956  contains spoiler movie plot summarized sentenc...  negative\n",
              "3959        3959  high school track field athelete laura remstea...  negative\n",
              "3961        3961  summary pretty much sum nowhere near good orig...  negative\n",
              "\n",
              "[4000 rows x 3 columns]"
            ],
            "text/html": [
              "\n",
              "  <div id=\"df-168bbf1b-4fc1-4a19-bdc2-29824b223eb4\" class=\"colab-df-container\">\n",
              "    <div>\n",
              "<style scoped>\n",
              "    .dataframe tbody tr th:only-of-type {\n",
              "        vertical-align: middle;\n",
              "    }\n",
              "\n",
              "    .dataframe tbody tr th {\n",
              "        vertical-align: top;\n",
              "    }\n",
              "\n",
              "    .dataframe thead th {\n",
              "        text-align: right;\n",
              "    }\n",
              "</style>\n",
              "<table border=\"1\" class=\"dataframe\">\n",
              "  <thead>\n",
              "    <tr style=\"text-align: right;\">\n",
              "      <th></th>\n",
              "      <th>Unnamed: 0</th>\n",
              "      <th>review</th>\n",
              "      <th>sentiment</th>\n",
              "    </tr>\n",
              "  </thead>\n",
              "  <tbody>\n",
              "    <tr>\n",
              "      <th>0</th>\n",
              "      <td>0</td>\n",
              "      <td>one reviewer mentioned watching oz episode you...</td>\n",
              "      <td>positive</td>\n",
              "    </tr>\n",
              "    <tr>\n",
              "      <th>1</th>\n",
              "      <td>1</td>\n",
              "      <td>wonderful little production br br filming tech...</td>\n",
              "      <td>positive</td>\n",
              "    </tr>\n",
              "    <tr>\n",
              "      <th>2</th>\n",
              "      <td>2</td>\n",
              "      <td>thought wonderful way spend time hot summer we...</td>\n",
              "      <td>positive</td>\n",
              "    </tr>\n",
              "    <tr>\n",
              "      <th>4</th>\n",
              "      <td>4</td>\n",
              "      <td>petter matteis love time money visually stunni...</td>\n",
              "      <td>positive</td>\n",
              "    </tr>\n",
              "    <tr>\n",
              "      <th>5</th>\n",
              "      <td>5</td>\n",
              "      <td>probably alltime favorite movie story selfless...</td>\n",
              "      <td>positive</td>\n",
              "    </tr>\n",
              "    <tr>\n",
              "      <th>...</th>\n",
              "      <td>...</td>\n",
              "      <td>...</td>\n",
              "      <td>...</td>\n",
              "    </tr>\n",
              "    <tr>\n",
              "      <th>3953</th>\n",
              "      <td>3953</td>\n",
              "      <td>let see advantage watching piranha piranha wel...</td>\n",
              "      <td>negative</td>\n",
              "    </tr>\n",
              "    <tr>\n",
              "      <th>3954</th>\n",
              "      <td>3954</td>\n",
              "      <td>one thing produced movie feel later movie inte...</td>\n",
              "      <td>negative</td>\n",
              "    </tr>\n",
              "    <tr>\n",
              "      <th>3956</th>\n",
              "      <td>3956</td>\n",
              "      <td>contains spoiler movie plot summarized sentenc...</td>\n",
              "      <td>negative</td>\n",
              "    </tr>\n",
              "    <tr>\n",
              "      <th>3959</th>\n",
              "      <td>3959</td>\n",
              "      <td>high school track field athelete laura remstea...</td>\n",
              "      <td>negative</td>\n",
              "    </tr>\n",
              "    <tr>\n",
              "      <th>3961</th>\n",
              "      <td>3961</td>\n",
              "      <td>summary pretty much sum nowhere near good orig...</td>\n",
              "      <td>negative</td>\n",
              "    </tr>\n",
              "  </tbody>\n",
              "</table>\n",
              "<p>4000 rows × 3 columns</p>\n",
              "</div>\n",
              "    <div class=\"colab-df-buttons\">\n",
              "\n",
              "  <div class=\"colab-df-container\">\n",
              "    <button class=\"colab-df-convert\" onclick=\"convertToInteractive('df-168bbf1b-4fc1-4a19-bdc2-29824b223eb4')\"\n",
              "            title=\"Convert this dataframe to an interactive table.\"\n",
              "            style=\"display:none;\">\n",
              "\n",
              "  <svg xmlns=\"http://www.w3.org/2000/svg\" height=\"24px\" viewBox=\"0 -960 960 960\">\n",
              "    <path d=\"M120-120v-720h720v720H120Zm60-500h600v-160H180v160Zm220 220h160v-160H400v160Zm0 220h160v-160H400v160ZM180-400h160v-160H180v160Zm440 0h160v-160H620v160ZM180-180h160v-160H180v160Zm440 0h160v-160H620v160Z\"/>\n",
              "  </svg>\n",
              "    </button>\n",
              "\n",
              "  <style>\n",
              "    .colab-df-container {\n",
              "      display:flex;\n",
              "      gap: 12px;\n",
              "    }\n",
              "\n",
              "    .colab-df-convert {\n",
              "      background-color: #E8F0FE;\n",
              "      border: none;\n",
              "      border-radius: 50%;\n",
              "      cursor: pointer;\n",
              "      display: none;\n",
              "      fill: #1967D2;\n",
              "      height: 32px;\n",
              "      padding: 0 0 0 0;\n",
              "      width: 32px;\n",
              "    }\n",
              "\n",
              "    .colab-df-convert:hover {\n",
              "      background-color: #E2EBFA;\n",
              "      box-shadow: 0px 1px 2px rgba(60, 64, 67, 0.3), 0px 1px 3px 1px rgba(60, 64, 67, 0.15);\n",
              "      fill: #174EA6;\n",
              "    }\n",
              "\n",
              "    .colab-df-buttons div {\n",
              "      margin-bottom: 4px;\n",
              "    }\n",
              "\n",
              "    [theme=dark] .colab-df-convert {\n",
              "      background-color: #3B4455;\n",
              "      fill: #D2E3FC;\n",
              "    }\n",
              "\n",
              "    [theme=dark] .colab-df-convert:hover {\n",
              "      background-color: #434B5C;\n",
              "      box-shadow: 0px 1px 3px 1px rgba(0, 0, 0, 0.15);\n",
              "      filter: drop-shadow(0px 1px 2px rgba(0, 0, 0, 0.3));\n",
              "      fill: #FFFFFF;\n",
              "    }\n",
              "  </style>\n",
              "\n",
              "    <script>\n",
              "      const buttonEl =\n",
              "        document.querySelector('#df-168bbf1b-4fc1-4a19-bdc2-29824b223eb4 button.colab-df-convert');\n",
              "      buttonEl.style.display =\n",
              "        google.colab.kernel.accessAllowed ? 'block' : 'none';\n",
              "\n",
              "      async function convertToInteractive(key) {\n",
              "        const element = document.querySelector('#df-168bbf1b-4fc1-4a19-bdc2-29824b223eb4');\n",
              "        const dataTable =\n",
              "          await google.colab.kernel.invokeFunction('convertToInteractive',\n",
              "                                                    [key], {});\n",
              "        if (!dataTable) return;\n",
              "\n",
              "        const docLinkHtml = 'Like what you see? Visit the ' +\n",
              "          '<a target=\"_blank\" href=https://colab.research.google.com/notebooks/data_table.ipynb>data table notebook</a>'\n",
              "          + ' to learn more about interactive tables.';\n",
              "        element.innerHTML = '';\n",
              "        dataTable['output_type'] = 'display_data';\n",
              "        await google.colab.output.renderOutput(dataTable, element);\n",
              "        const docLink = document.createElement('div');\n",
              "        docLink.innerHTML = docLinkHtml;\n",
              "        element.appendChild(docLink);\n",
              "      }\n",
              "    </script>\n",
              "  </div>\n",
              "\n",
              "\n",
              "<div id=\"df-642b3267-0e7f-44ed-a15c-4df9cdeca64c\">\n",
              "  <button class=\"colab-df-quickchart\" onclick=\"quickchart('df-642b3267-0e7f-44ed-a15c-4df9cdeca64c')\"\n",
              "            title=\"Suggest charts\"\n",
              "            style=\"display:none;\">\n",
              "\n",
              "<svg xmlns=\"http://www.w3.org/2000/svg\" height=\"24px\"viewBox=\"0 0 24 24\"\n",
              "     width=\"24px\">\n",
              "    <g>\n",
              "        <path d=\"M19 3H5c-1.1 0-2 .9-2 2v14c0 1.1.9 2 2 2h14c1.1 0 2-.9 2-2V5c0-1.1-.9-2-2-2zM9 17H7v-7h2v7zm4 0h-2V7h2v10zm4 0h-2v-4h2v4z\"/>\n",
              "    </g>\n",
              "</svg>\n",
              "  </button>\n",
              "\n",
              "<style>\n",
              "  .colab-df-quickchart {\n",
              "      --bg-color: #E8F0FE;\n",
              "      --fill-color: #1967D2;\n",
              "      --hover-bg-color: #E2EBFA;\n",
              "      --hover-fill-color: #174EA6;\n",
              "      --disabled-fill-color: #AAA;\n",
              "      --disabled-bg-color: #DDD;\n",
              "  }\n",
              "\n",
              "  [theme=dark] .colab-df-quickchart {\n",
              "      --bg-color: #3B4455;\n",
              "      --fill-color: #D2E3FC;\n",
              "      --hover-bg-color: #434B5C;\n",
              "      --hover-fill-color: #FFFFFF;\n",
              "      --disabled-bg-color: #3B4455;\n",
              "      --disabled-fill-color: #666;\n",
              "  }\n",
              "\n",
              "  .colab-df-quickchart {\n",
              "    background-color: var(--bg-color);\n",
              "    border: none;\n",
              "    border-radius: 50%;\n",
              "    cursor: pointer;\n",
              "    display: none;\n",
              "    fill: var(--fill-color);\n",
              "    height: 32px;\n",
              "    padding: 0;\n",
              "    width: 32px;\n",
              "  }\n",
              "\n",
              "  .colab-df-quickchart:hover {\n",
              "    background-color: var(--hover-bg-color);\n",
              "    box-shadow: 0 1px 2px rgba(60, 64, 67, 0.3), 0 1px 3px 1px rgba(60, 64, 67, 0.15);\n",
              "    fill: var(--button-hover-fill-color);\n",
              "  }\n",
              "\n",
              "  .colab-df-quickchart-complete:disabled,\n",
              "  .colab-df-quickchart-complete:disabled:hover {\n",
              "    background-color: var(--disabled-bg-color);\n",
              "    fill: var(--disabled-fill-color);\n",
              "    box-shadow: none;\n",
              "  }\n",
              "\n",
              "  .colab-df-spinner {\n",
              "    border: 2px solid var(--fill-color);\n",
              "    border-color: transparent;\n",
              "    border-bottom-color: var(--fill-color);\n",
              "    animation:\n",
              "      spin 1s steps(1) infinite;\n",
              "  }\n",
              "\n",
              "  @keyframes spin {\n",
              "    0% {\n",
              "      border-color: transparent;\n",
              "      border-bottom-color: var(--fill-color);\n",
              "      border-left-color: var(--fill-color);\n",
              "    }\n",
              "    20% {\n",
              "      border-color: transparent;\n",
              "      border-left-color: var(--fill-color);\n",
              "      border-top-color: var(--fill-color);\n",
              "    }\n",
              "    30% {\n",
              "      border-color: transparent;\n",
              "      border-left-color: var(--fill-color);\n",
              "      border-top-color: var(--fill-color);\n",
              "      border-right-color: var(--fill-color);\n",
              "    }\n",
              "    40% {\n",
              "      border-color: transparent;\n",
              "      border-right-color: var(--fill-color);\n",
              "      border-top-color: var(--fill-color);\n",
              "    }\n",
              "    60% {\n",
              "      border-color: transparent;\n",
              "      border-right-color: var(--fill-color);\n",
              "    }\n",
              "    80% {\n",
              "      border-color: transparent;\n",
              "      border-right-color: var(--fill-color);\n",
              "      border-bottom-color: var(--fill-color);\n",
              "    }\n",
              "    90% {\n",
              "      border-color: transparent;\n",
              "      border-bottom-color: var(--fill-color);\n",
              "    }\n",
              "  }\n",
              "</style>\n",
              "\n",
              "  <script>\n",
              "    async function quickchart(key) {\n",
              "      const quickchartButtonEl =\n",
              "        document.querySelector('#' + key + ' button');\n",
              "      quickchartButtonEl.disabled = true;  // To prevent multiple clicks.\n",
              "      quickchartButtonEl.classList.add('colab-df-spinner');\n",
              "      try {\n",
              "        const charts = await google.colab.kernel.invokeFunction(\n",
              "            'suggestCharts', [key], {});\n",
              "      } catch (error) {\n",
              "        console.error('Error during call to suggestCharts:', error);\n",
              "      }\n",
              "      quickchartButtonEl.classList.remove('colab-df-spinner');\n",
              "      quickchartButtonEl.classList.add('colab-df-quickchart-complete');\n",
              "    }\n",
              "    (() => {\n",
              "      let quickchartButtonEl =\n",
              "        document.querySelector('#df-642b3267-0e7f-44ed-a15c-4df9cdeca64c button');\n",
              "      quickchartButtonEl.style.display =\n",
              "        google.colab.kernel.accessAllowed ? 'block' : 'none';\n",
              "    })();\n",
              "  </script>\n",
              "</div>\n",
              "\n",
              "  <div id=\"id_69801a64-0083-450d-be28-0c57787bb80b\">\n",
              "    <style>\n",
              "      .colab-df-generate {\n",
              "        background-color: #E8F0FE;\n",
              "        border: none;\n",
              "        border-radius: 50%;\n",
              "        cursor: pointer;\n",
              "        display: none;\n",
              "        fill: #1967D2;\n",
              "        height: 32px;\n",
              "        padding: 0 0 0 0;\n",
              "        width: 32px;\n",
              "      }\n",
              "\n",
              "      .colab-df-generate:hover {\n",
              "        background-color: #E2EBFA;\n",
              "        box-shadow: 0px 1px 2px rgba(60, 64, 67, 0.3), 0px 1px 3px 1px rgba(60, 64, 67, 0.15);\n",
              "        fill: #174EA6;\n",
              "      }\n",
              "\n",
              "      [theme=dark] .colab-df-generate {\n",
              "        background-color: #3B4455;\n",
              "        fill: #D2E3FC;\n",
              "      }\n",
              "\n",
              "      [theme=dark] .colab-df-generate:hover {\n",
              "        background-color: #434B5C;\n",
              "        box-shadow: 0px 1px 3px 1px rgba(0, 0, 0, 0.15);\n",
              "        filter: drop-shadow(0px 1px 2px rgba(0, 0, 0, 0.3));\n",
              "        fill: #FFFFFF;\n",
              "      }\n",
              "    </style>\n",
              "    <button class=\"colab-df-generate\" onclick=\"generateWithVariable('df')\"\n",
              "            title=\"Generate code using this dataframe.\"\n",
              "            style=\"display:none;\">\n",
              "\n",
              "  <svg xmlns=\"http://www.w3.org/2000/svg\" height=\"24px\"viewBox=\"0 0 24 24\"\n",
              "       width=\"24px\">\n",
              "    <path d=\"M7,19H8.4L18.45,9,17,7.55,7,17.6ZM5,21V16.75L18.45,3.32a2,2,0,0,1,2.83,0l1.4,1.43a1.91,1.91,0,0,1,.58,1.4,1.91,1.91,0,0,1-.58,1.4L9.25,21ZM18.45,9,17,7.55Zm-12,3A5.31,5.31,0,0,0,4.9,8.1,5.31,5.31,0,0,0,1,6.5,5.31,5.31,0,0,0,4.9,4.9,5.31,5.31,0,0,0,6.5,1,5.31,5.31,0,0,0,8.1,4.9,5.31,5.31,0,0,0,12,6.5,5.46,5.46,0,0,0,6.5,12Z\"/>\n",
              "  </svg>\n",
              "    </button>\n",
              "    <script>\n",
              "      (() => {\n",
              "      const buttonEl =\n",
              "        document.querySelector('#id_69801a64-0083-450d-be28-0c57787bb80b button.colab-df-generate');\n",
              "      buttonEl.style.display =\n",
              "        google.colab.kernel.accessAllowed ? 'block' : 'none';\n",
              "\n",
              "      buttonEl.onclick = () => {\n",
              "        google.colab.notebook.generateWithVariable('df');\n",
              "      }\n",
              "      })();\n",
              "    </script>\n",
              "  </div>\n",
              "\n",
              "    </div>\n",
              "  </div>\n"
            ],
            "application/vnd.google.colaboratory.intrinsic+json": {
              "type": "dataframe",
              "variable_name": "df",
              "summary": "{\n  \"name\": \"df\",\n  \"rows\": 4000,\n  \"fields\": [\n    {\n      \"column\": \"Unnamed: 0\",\n      \"properties\": {\n        \"dtype\": \"number\",\n        \"std\": 1155,\n        \"min\": 0,\n        \"max\": 4052,\n        \"num_unique_values\": 4000,\n        \"samples\": [\n          1110,\n          2999,\n          1048\n        ],\n        \"semantic_type\": \"\",\n        \"description\": \"\"\n      }\n    },\n    {\n      \"column\": \"review\",\n      \"properties\": {\n        \"dtype\": \"string\",\n        \"num_unique_values\": 3998,\n        \"samples\": [\n          \"one unfairly maligned programme time terry june also one popular sitcom sbr br started life happy ever eric merriman decided didnt want write changed hence dropping aunt lucy fletcher becoming medford br br yes cosy domestic middleclass stuff plot ran gamut clichs bos coming dinner vicar organising jumble sale unwanted relative coming stay weekend certainly dreadful lazy comedy clever meant funny well performed enough br br loved alternative boom spitting image black adder young one etc also enjoyed conventional stuff nothing else provided alternative comedy something alternative found sad though like ben elton took benny hill well family oriented comedy vanished screen left u take look latest tv schedule soap reality dross comedy left aimed teenager meaning jam packed swearing bodily function joke explicit sexual reference remotely funny eitherbr br alternative comedy boom good many way dark side made conventional sitcom appear old fashioned drove away talented writer performer spike milligan ultimately led unspeakable drivel little britain tittybangbang heaven help u aint broke dont fix\",\n          \"dewaana film go usual clichs man woman fall love marry husband supposedly killed family friend want family fortune woman remarries surprise surprise husband reappears movie reminiscent yash chopras chandni countless others divya bharti shah rukh khan give good performance amrish puri villain go motion nothing standard bollywood villain music nadeem shravan superb song brilliant favourite sochenge tumhe pyar koyi na koyi chahiyye dewanna ordinary movie go motion\",\n          \"satire really really deadon nobody spared even though movie plenty laugh within silly story grotesque imitation hitler cleverly renamed hynkel speaking hilarious kind pseudogerman general tone pretty sad maybe movie place history actor arent even exaggerating much suppose one greatest movie moment time must jewish barber ending speech thing could ended way even really character talking anymore chaplin saying something really wanted say ignore technical aspect movie doesnt feel dated old actually move pretty nice pace sharp humor find everywhere work never die thing dont care slapstick come era suppose incredibly daring harsh take fascism hardhitting still year\"\n        ],\n        \"semantic_type\": \"\",\n        \"description\": \"\"\n      }\n    },\n    {\n      \"column\": \"sentiment\",\n      \"properties\": {\n        \"dtype\": \"category\",\n        \"num_unique_values\": 2,\n        \"samples\": [\n          \"negative\",\n          \"positive\"\n        ],\n        \"semantic_type\": \"\",\n        \"description\": \"\"\n      }\n    }\n  ]\n}"
            }
          },
          "metadata": {},
          "execution_count": 10
        }
      ],
      "source": [
        "df"
      ]
    },
    {
      "cell_type": "code",
      "source": [
        "X = df[\"review\"]\n",
        "y = df[\"sentiment\"]"
      ],
      "metadata": {
        "id": "bcJSSUE9pcBT"
      },
      "id": "bcJSSUE9pcBT",
      "execution_count": null,
      "outputs": []
    },
    {
      "cell_type": "markdown",
      "id": "747b97b5",
      "metadata": {
        "id": "747b97b5"
      },
      "source": [
        "# DL with TFIDF"
      ]
    },
    {
      "cell_type": "code",
      "execution_count": null,
      "id": "84fec59e",
      "metadata": {
        "id": "84fec59e"
      },
      "outputs": [],
      "source": [
        "from sklearn.model_selection import train_test_split\n",
        "from sklearn.linear_model import LogisticRegression\n",
        "from sklearn.preprocessing import LabelEncoder\n",
        "import numpy as np\n",
        "\n",
        "tfidf = TfidfVectorizer()\n",
        "X = tfidf.fit_transform(df[\"review\"])\n",
        "y=df[\"sentiment\"]\n",
        "\n",
        "X_train, X_test, y_train, y_test = train_test_split(X, y, test_size=0.2, random_state=42)\n"
      ]
    },
    {
      "cell_type": "markdown",
      "source": [
        "# ML with Random Forest Classifier"
      ],
      "metadata": {
        "id": "JH_IPRQ_nq3S"
      },
      "id": "JH_IPRQ_nq3S"
    },
    {
      "cell_type": "code",
      "source": [
        "import pickle\n",
        "from sklearn.ensemble import RandomForestClassifier\n",
        "\n",
        "# Train model\n",
        "model = RandomForestClassifier()\n",
        "model.fit(X, y)\n",
        "\n",
        "# Save the model\n",
        "with open(\"model.pkl\", \"wb\") as file:\n",
        "    pickle.dump(model, file)\n",
        "print(\"Model saved as model.pkl\")"
      ],
      "metadata": {
        "colab": {
          "base_uri": "https://localhost:8080/"
        },
        "id": "oix07v-7noD5",
        "outputId": "eb2513ff-11c7-43f5-bbf8-d18c273ce475"
      },
      "id": "oix07v-7noD5",
      "execution_count": null,
      "outputs": [
        {
          "output_type": "stream",
          "name": "stdout",
          "text": [
            "Model saved as model.pkl\n"
          ]
        }
      ]
    },
    {
      "cell_type": "code",
      "source": [
        "# Run in bash\n",
        "# python train_model.py"
      ],
      "metadata": {
        "id": "v3j7RzlGo1J4"
      },
      "id": "v3j7RzlGo1J4",
      "execution_count": null,
      "outputs": []
    },
    {
      "cell_type": "code",
      "execution_count": null,
      "id": "73a181fc",
      "metadata": {
        "id": "73a181fc"
      },
      "outputs": [],
      "source": [
        "# Ensure that X_train and X_test are in dense format\n",
        "X_train_dense = X_train.toarray()  # Convert sparse matrix to dense matrix\n",
        "X_test_dense = X_test.toarray()\n",
        "\n",
        "# Reshape the data to match the RNN input shape (batch_size, timesteps, features)\n",
        "X_train = np.expand_dims(X_train_dense, axis=-1)\n",
        "X_test = np.expand_dims(X_test_dense, axis=-1)\n",
        "\n",
        "# Encode labels\n",
        "le = LabelEncoder()\n",
        "y_train = le.fit_transform(y_train).astype('float32')\n",
        "y_test = le.transform(y_test).astype('float32')"
      ]
    },
    {
      "cell_type": "code",
      "execution_count": null,
      "id": "aadbc495",
      "metadata": {
        "id": "aadbc495"
      },
      "outputs": [],
      "source": [
        "import tensorflow as tf\n",
        "from tensorflow.keras.models import Sequential\n",
        "from tensorflow.keras.layers import LSTM, Bidirectional, SimpleRNN, Dropout, Reshape, Dense\n",
        "from sklearn.metrics import classification_report"
      ]
    },
    {
      "cell_type": "code",
      "execution_count": null,
      "id": "5a10fe70",
      "metadata": {
        "id": "5a10fe70",
        "colab": {
          "base_uri": "https://localhost:8080/"
        },
        "outputId": "9a0b6174-4db9-4177-f354-d70ca6b36f0e"
      },
      "outputs": [
        {
          "output_type": "stream",
          "name": "stderr",
          "text": [
            "/usr/local/lib/python3.11/dist-packages/keras/src/layers/reshaping/reshape.py:39: UserWarning: Do not pass an `input_shape`/`input_dim` argument to a layer. When using Sequential models, prefer using an `Input(shape)` object as the first layer in the model instead.\n",
            "  super().__init__(**kwargs)\n"
          ]
        }
      ],
      "source": [
        "# Build RNN\n",
        "\n",
        "rnn_model = Sequential([\n",
        "    Reshape((X_train.shape[1],1), input_shape=(X_train.shape[1],)),\n",
        "    SimpleRNN(128, return_sequences=False),\n",
        "    Dropout(0.5),\n",
        "    Dense(1, activation=\"sigmoid\")\n",
        "])\n"
      ]
    },
    {
      "cell_type": "code",
      "execution_count": null,
      "id": "5dd54947",
      "metadata": {
        "id": "5dd54947"
      },
      "outputs": [],
      "source": [
        "# Build LSTM\n",
        "\n",
        "lstm_model = Sequential([\n",
        "    Reshape((X_train.shape[1],1), input_shape=(X_train.shape[1],)),\n",
        "    LSTM(128, return_sequences=False),\n",
        "    Dropout(0.5),\n",
        "    Dense(1, activation=\"sigmoid\")\n",
        "])"
      ]
    },
    {
      "cell_type": "code",
      "execution_count": null,
      "id": "05bb0e7b",
      "metadata": {
        "id": "05bb0e7b"
      },
      "outputs": [],
      "source": [
        "# Build bILSTM\n",
        "\n",
        "bi_lstm_model = Sequential([\n",
        "    Reshape((X_train.shape[1],1), input_shape=(X_train.shape[1],)),\n",
        "    Bidirectional(LSTM(128, return_sequences=False)),\n",
        "    Dropout(0.5),\n",
        "    Dense(1, activation=\"sigmoid\")\n",
        "])"
      ]
    },
    {
      "cell_type": "code",
      "execution_count": null,
      "id": "62a958c6",
      "metadata": {
        "id": "62a958c6",
        "colab": {
          "base_uri": "https://localhost:8080/"
        },
        "outputId": "5cd6e067-42b0-4076-9db5-3791d18ff35c"
      },
      "outputs": [
        {
          "output_type": "stream",
          "name": "stdout",
          "text": [
            "\u001b[1m100/100\u001b[0m \u001b[32m━━━━━━━━━━━━━━━━━━━━\u001b[0m\u001b[37m\u001b[0m \u001b[1m652s\u001b[0m 7s/step - accuracy: 0.4980 - loss: 0.7719 - val_accuracy: 0.5275 - val_loss: 0.6916\n"
          ]
        },
        {
          "output_type": "execute_result",
          "data": {
            "text/plain": [
              "<keras.src.callbacks.history.History at 0x7ff8e4716f90>"
            ]
          },
          "metadata": {},
          "execution_count": 20
        }
      ],
      "source": [
        "model = rnn_model\n",
        "model.compile(optimizer='adam', loss='binary_crossentropy', metrics=[\"accuracy\"])\n",
        "model.fit(X_train,y_train, batch_size=32, validation_data=(X_test,y_test), verbose=1)#epochs=5"
      ]
    },
    {
      "cell_type": "code",
      "execution_count": 21,
      "id": "8442184d",
      "metadata": {
        "id": "8442184d",
        "colab": {
          "base_uri": "https://localhost:8080/"
        },
        "outputId": "d00b5f53-4446-41a8-9085-8da911c89be2"
      },
      "outputs": [
        {
          "output_type": "stream",
          "name": "stdout",
          "text": [
            "\u001b[1m25/25\u001b[0m \u001b[32m━━━━━━━━━━━━━━━━━━━━\u001b[0m\u001b[37m\u001b[0m \u001b[1m44s\u001b[0m 2s/step\n"
          ]
        }
      ],
      "source": [
        "pred  = model.predict(X_test)\n",
        "pred = (pred > 0.5).astype(int)"
      ]
    },
    {
      "cell_type": "code",
      "execution_count": 22,
      "id": "8c20b91d",
      "metadata": {
        "id": "8c20b91d",
        "outputId": "461134ba-50b4-4879-c99e-ffb2500287fb",
        "colab": {
          "base_uri": "https://localhost:8080/"
        }
      },
      "outputs": [
        {
          "output_type": "stream",
          "name": "stdout",
          "text": [
            "              precision    recall  f1-score   support\n",
            "\n",
            "         0.0       0.00      0.00      0.00       378\n",
            "         1.0       0.53      1.00      0.69       422\n",
            "\n",
            "    accuracy                           0.53       800\n",
            "   macro avg       0.26      0.50      0.35       800\n",
            "weighted avg       0.28      0.53      0.36       800\n",
            "\n"
          ]
        },
        {
          "output_type": "stream",
          "name": "stderr",
          "text": [
            "/usr/local/lib/python3.11/dist-packages/sklearn/metrics/_classification.py:1565: UndefinedMetricWarning: Precision is ill-defined and being set to 0.0 in labels with no predicted samples. Use `zero_division` parameter to control this behavior.\n",
            "  _warn_prf(average, modifier, f\"{metric.capitalize()} is\", len(result))\n",
            "/usr/local/lib/python3.11/dist-packages/sklearn/metrics/_classification.py:1565: UndefinedMetricWarning: Precision is ill-defined and being set to 0.0 in labels with no predicted samples. Use `zero_division` parameter to control this behavior.\n",
            "  _warn_prf(average, modifier, f\"{metric.capitalize()} is\", len(result))\n",
            "/usr/local/lib/python3.11/dist-packages/sklearn/metrics/_classification.py:1565: UndefinedMetricWarning: Precision is ill-defined and being set to 0.0 in labels with no predicted samples. Use `zero_division` parameter to control this behavior.\n",
            "  _warn_prf(average, modifier, f\"{metric.capitalize()} is\", len(result))\n"
          ]
        }
      ],
      "source": [
        "print(classification_report(y_test, pred))"
      ]
    },
    {
      "cell_type": "code",
      "execution_count": null,
      "id": "bf7ec56e",
      "metadata": {
        "id": "bf7ec56e"
      },
      "outputs": [],
      "source": [
        "model = lstm_model\n",
        "model.compile(optimizer='adam', loss='binary_crossentropy', metrics=[\"accuracy\"])\n",
        "model.fit(X_train,y_train, batch_size=32, validation_data=(X_test,y_test), verbose=1)#epochs=5\n"
      ]
    },
    {
      "cell_type": "code",
      "execution_count": null,
      "id": "4fb20ff8",
      "metadata": {
        "id": "4fb20ff8"
      },
      "outputs": [],
      "source": [
        "pred  = model.predict(X_test)\n",
        "pred = (pred > 0.5).astype(int)\n",
        "print(classification_report(y_test, pred))"
      ]
    },
    {
      "cell_type": "code",
      "execution_count": null,
      "id": "882608b4",
      "metadata": {
        "id": "882608b4"
      },
      "outputs": [],
      "source": [
        "model = bi_lstm_model\n",
        "model.compile(optimizer='adam', loss='binary_crossentropy', metrics=[\"accuracy\"])\n",
        "model.fit(X_train,y_train, batch_size=32, validation_data=(X_test,y_test), verbose=1)#epochs=5\n",
        "pred  = model.predict(X_test)\n",
        "pred = (pred > 0.5).astype(int)\n",
        "print(classification_report(y_test, pred))"
      ]
    },
    {
      "cell_type": "markdown",
      "id": "96a3f8d3",
      "metadata": {
        "id": "96a3f8d3"
      },
      "source": [
        "# DL with Word Vectors"
      ]
    },
    {
      "cell_type": "code",
      "execution_count": null,
      "id": "e7b4d6a9",
      "metadata": {
        "id": "e7b4d6a9"
      },
      "outputs": [],
      "source": [
        "df_p = df[df[\"sentiment\"]==\"positive\"].iloc[0:2500]\n",
        "\n",
        "df_n = df[df[\"sentiment\"] == \"negative\"].iloc[0:2500]\n",
        "\n",
        "df_filter = pd.concat([df_p,df_n],axis=1)"
      ]
    },
    {
      "cell_type": "code",
      "execution_count": null,
      "id": "5sZI-e7vegcL",
      "metadata": {
        "id": "5sZI-e7vegcL"
      },
      "outputs": [],
      "source": [
        "pip install fasttext"
      ]
    },
    {
      "cell_type": "code",
      "execution_count": null,
      "id": "c9999f5e",
      "metadata": {
        "id": "c9999f5e"
      },
      "outputs": [],
      "source": [
        "import fasttext.util\n",
        "import numpy as np\n",
        "\n",
        "# Load pre-trained FastText model\n",
        "# Load pre-trained FastText English word vectors\n",
        "fasttext.util.download_model('en', if_exists='ignore')\n",
        "ft = fasttext.load_model('cc.en.300.bin')\n",
        "\n",
        "def generate_ngrams(words, n):\n",
        "    \"\"\"Generate word n-grams from a list of words.\"\"\"\n",
        "    return [' '.join(words[i:i+n]) for i in range(len(words)-n+1)]\n",
        "\n",
        "def sentence_embedding(sentence, n=1):\n",
        "    \"\"\"Compute the sentence embedding using FastText word or n-gram vectors.\"\"\"\n",
        "    words = sentence.split()\n",
        "    ngrams = words if n == 1 else generate_ngrams(words, n)\n",
        "\n",
        "    embeddings = [ft.get_word_vector(ngram) for ngram in ngrams if ngram in ft.words]\n",
        "\n",
        "    if embeddings:\n",
        "        return np.mean(embeddings, axis=0)\n",
        "    else:\n",
        "        return np.zeros(300)  # Return zero vector if no valid words found\n",
        "\n",
        "# Example usage:\n",
        "sentence = \"The quick brown fox jumps over the lazy dog\"\n",
        "embedding = sentence_embedding(sentence, n=2)  # Using bigrams\n",
        "print(embedding.shape)  # Should print (300,)\n"
      ]
    },
    {
      "cell_type": "code",
      "execution_count": null,
      "id": "21590f3a",
      "metadata": {
        "id": "21590f3a"
      },
      "outputs": [],
      "source": [
        "X = np.array([sentence_embedding(text) for text in df_filter[\"review\"]])\n",
        "y = df_filter[\"sentiment\"]\n",
        "\n",
        "\n",
        "# Split data into training and test sets\n",
        "X_train, X_test, y_train, y_test = train_test_split(X, y, test_size=0.2, random_state=42)"
      ]
    },
    {
      "cell_type": "code",
      "execution_count": null,
      "id": "8fc661fb",
      "metadata": {
        "id": "8fc661fb"
      },
      "outputs": [],
      "source": [
        "# Ensure that X_train and X_test are in dense format\n",
        "X_train_dense = X_train.toarray()  # Convert sparse matrix to dense matrix\n",
        "X_test_dense = X_test.toarray()\n",
        "\n",
        "# Reshape the data to match the RNN input shape (batch_size, timesteps, features)\n",
        "X_train = np.expand_dims(X_train_dense, axis=-1)\n",
        "X_test = np.expand_dims(X_test_dense, axis=-1)\n",
        "\n",
        "# Encode labels\n",
        "le = LabelEncoder()\n",
        "y_train = le.fit_transform(y_train).astype('float32')\n",
        "y_test = le.transform(y_test).astype('float32')"
      ]
    },
    {
      "cell_type": "code",
      "execution_count": null,
      "id": "52750b8b",
      "metadata": {
        "id": "52750b8b"
      },
      "outputs": [],
      "source": [
        "# Build RNN\n",
        "\n",
        "rnn_model = Sequential([\n",
        "    Reshape((X_train.shape[1],1), input_shape=(X_train.shape[1],)),\n",
        "    SimpleRNN(128, return_sequences=False),\n",
        "    Dropout(0.5),\n",
        "    Dense(1, activation=\"sigmoid\")\n",
        "])\n",
        "\n",
        "# Build LSTM\n",
        "\n",
        "lstm_model = Sequential([\n",
        "    Reshape((X_train.shape[1],1), input_shape=(X_train.shape[1],)),\n",
        "    LSTM(128, return_sequences=False),\n",
        "    Dropout(0.5),\n",
        "    Dense(1, activation=\"sigmoid\")\n",
        "])\n",
        "\n",
        "# Build bILSTM\n",
        "\n",
        "bi_lstm_model = Sequential([\n",
        "    Reshape((X_train.shape[1],1), input_shape=(X_train.shape[1],)),\n",
        "    Bidirectional(LSTM(128, return_sequences=False)),\n",
        "    Dropout(0.5),\n",
        "    Dense(1, activation=\"sigmoid\")\n",
        "])\n"
      ]
    },
    {
      "cell_type": "code",
      "execution_count": null,
      "id": "7e53e5b6",
      "metadata": {
        "id": "7e53e5b6"
      },
      "outputs": [],
      "source": [
        "model = rnn_model\n",
        "model.compile(optimizer='adam', loss='binary_crossentropy', metrics=[\"accuracy\"])\n",
        "model.fit(X_train,y_train, batch_size=32, validation_data=(X_test,y_test), verbose=1)#epochs=5\n",
        "\n",
        "pred  = model.predict(X_test)\n",
        "pred = (pred > 0.5).astype(int)\n",
        "print(classification_report(y_test, pred))"
      ]
    },
    {
      "cell_type": "code",
      "execution_count": null,
      "id": "1c626e62",
      "metadata": {
        "id": "1c626e62"
      },
      "outputs": [],
      "source": [
        "model = lstm_model\n",
        "model.compile(optimizer='adam', loss='binary_crossentropy', metrics=[\"accuracy\"])\n",
        "model.fit(X_train,y_train, batch_size=32, validation_data=(X_test,y_test), verbose=1)#epochs=5\n",
        "\n",
        "pred  = model.predict(X_test)\n",
        "pred = (pred > 0.5).astype(int)\n",
        "print(classification_report(y_test, pred))"
      ]
    },
    {
      "cell_type": "code",
      "execution_count": null,
      "id": "7c8d9081",
      "metadata": {
        "id": "7c8d9081"
      },
      "outputs": [],
      "source": [
        "\n",
        "model = bi_lstm_model\n",
        "model.compile(optimizer='adam', loss='binary_crossentropy', metrics=[\"accuracy\"])\n",
        "model.fit(X_train,y_train, batch_size=32, validation_data=(X_test,y_test), verbose=1)#epochs=5\n",
        "pred  = model.predict(X_test)\n",
        "pred = (pred > 0.5).astype(int)\n",
        "print(classification_report(y_test, pred))"
      ]
    },
    {
      "cell_type": "markdown",
      "source": [
        "# Using AI Model - BERT"
      ],
      "metadata": {
        "id": "DmjoasarnQUH"
      },
      "id": "DmjoasarnQUH"
    },
    {
      "cell_type": "code",
      "source": [
        "from transformers import AutoTokenizer\n",
        "\n",
        "# Load BERT tokenizer\n",
        "tokenizer = AutoTokenizer.from_pretrained(\"distilbert-base-uncased\")\n",
        "\n",
        "# Tokenization function\n",
        "def tokenize_function(examples):\n",
        "    return tokenizer(examples[\"text\"], padding=\"max_length\", truncation=True)\n",
        "\n",
        "# Apply tokenization\n",
        "tokenized_dataset = dataset.map(tokenize_function, batched=True)\n",
        "\n",
        "# Rename columns for compatibility\n",
        "tokenized_dataset = tokenized_dataset.rename_column(\"label\", \"labels\")\n",
        "tokenized_dataset = tokenized_dataset.remove_columns([\"text\"])\n",
        "tokenized_dataset.set_format(\"torch\")\n"
      ],
      "metadata": {
        "id": "OQKz1H-HSs22"
      },
      "id": "OQKz1H-HSs22",
      "execution_count": null,
      "outputs": []
    },
    {
      "cell_type": "code",
      "source": [
        "from transformers import TrainingArguments, Trainer\n",
        "\n",
        "# Define training parametersgmail\n",
        "training_args = TrainingArguments(\n",
        "    output_dir=\"./bert-custom\",\n",
        "    evaluation_strategy=\"epoch\",\n",
        "    save_strategy=\"epoch\",\n",
        "    per_device_train_batch_size=8,from tra\n",
        "    per_device_eval_batch_size=8,\n",
        "    num_train_epochs=3,\n",
        "    weight_decay=0.01,\n",
        "    logging_dir=\"./logs\",\n",
        ")\n",
        "\n",
        "# Initialize Trainer\n",
        "trainer = Trainer(\n",
        "    model=model,\n",
        "    args=training_args,\n",
        "    train_dataset=tokenized_dataset[\"train\"],\n",
        "    eval_dataset=tokenized_dataset[\"test\"],\n",
        "    tokenizer=tokenizer,\n",
        ")\n",
        "\n",
        "# Train the model\n",
        "trainer.train()"
      ],
      "metadata": {
        "id": "AKX0QsVinXAh"
      },
      "id": "AKX0QsVinXAh",
      "execution_count": null,
      "outputs": []
    },
    {
      "cell_type": "code",
      "source": [
        "trainer.evaluate()"
      ],
      "metadata": {
        "id": "tmEV_IBJnaXW"
      },
      "id": "tmEV_IBJnaXW",
      "execution_count": null,
      "outputs": []
    },
    {
      "cell_type": "code",
      "source": [
        "def predict_sentiment(text):\n",
        "    inputs = tokenizer(text, return_tensors=\"pt\", padding=True, truncation=True, max_length=512)\n",
        "    outputs = model(**inputs)\n",
        "    prediction = outputs.logits.argmax().item()\n",
        "    return \"Positive\" if prediction == 1 else \"Negative\"\n",
        "\n",
        "# Example reviews\n",
        "reviews = [\n",
        "    \"Amazing movie with a great storyline!\",\n",
        "    \"I didn't enjoy this film at all.\",\n",
        "    \"It was okay, nothing special.\"\n",
        "]\n",
        "\n",
        "for review in reviews:\n",
        "    print(f\"Review: {review}\\nPredicted Sentiment: {predict_sentiment(review)}\\n\")\n"
      ],
      "metadata": {
        "id": "btnUp9zgndVv"
      },
      "id": "btnUp9zgndVv",
      "execution_count": null,
      "outputs": []
    },
    {
      "cell_type": "code",
      "source": [
        "import pickle\n",
        "\n",
        "# Save model and vectorizer\n",
        "with open(\"random_forest_sentiment.pkl\", \"wb\") as f:\n",
        "    pickle.dump((model, tfidf), f)\n",
        "\n",
        "print(\"Model saved successfully!\")\n"
      ],
      "metadata": {
        "id": "tMy2r52wngfz"
      },
      "id": "tMy2r52wngfz",
      "execution_count": null,
      "outputs": []
    }
  ],
  "metadata": {
    "colab": {
      "provenance": [],
      "gpuType": "T4"
    },
    "kernelspec": {
      "display_name": "Python 3",
      "name": "python3"
    },
    "language_info": {
      "codemirror_mode": {
        "name": "ipython",
        "version": 3
      },
      "file_extension": ".py",
      "mimetype": "text/x-python",
      "name": "python",
      "nbconvert_exporter": "python",
      "pygments_lexer": "ipython3",
      "version": "3.11.5"
    },
    "accelerator": "GPU"
  },
  "nbformat": 4,
  "nbformat_minor": 5
}